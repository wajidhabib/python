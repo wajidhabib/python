{
 "cells": [
  {
   "cell_type": "markdown",
   "id": "f6519aad",
   "metadata": {},
   "source": [
    "# User input"
   ]
  },
  {
   "cell_type": "raw",
   "id": "948191fe",
   "metadata": {},
   "source": [
    "1. Take a sentence input from user using input function. Count occurence of a particular character/word in the sentence and print the message that the character appear this many times in the sentence.\n",
    "Like if user inputs> \"My name is Sana. I am an undergraduate student. I am learning Artificial Intellegence in PIAIC\"\n",
    "Your output should be:\n",
    "    I appears 5 times in your sentence\n",
    "Hint: nahi batounga use string methods.\n",
    "Note: Sana is a boy. His full name is SanaUllah😄"
   ]
  },
  {
   "cell_type": "raw",
   "id": "bf6c3672",
   "metadata": {},
   "source": [
    "2. Take a number input from user and print the square of that number. \n",
    "\n",
    "if a user inputs 10 Your output should be like:\n",
    "    The square of 10 is 100\n",
    "if a user inputs 5 Your output should be like:\n",
    "    The square of 5 is 25\n",
    "if a user inputs 2 Your output should be like:\n",
    "    The square of 2 is 4\n"
   ]
  },
  {
   "cell_type": "raw",
   "id": "0da0f529",
   "metadata": {},
   "source": [
    "3. Take two inputs from user using two input functions add these two numbers and print the result.\n",
    "For example if a user inputs 10 in first input, 20 in second input then your output mustbe like:\n",
    "    The sum of 10 and 20 is 30\n",
    "    \n",
    "For example if a user inputs 12 in first input, 30 in second input then your output mustbe like:\n",
    "    The sum of 12 and 30 is 42\n",
    "\n",
    "For example if a user inputs 100 in first input, 200 in second input then your out put mustbe like:\n",
    "    The sum of 100 and 200 is 300"
   ]
  },
  {
   "cell_type": "raw",
   "id": "f957eb50",
   "metadata": {},
   "source": [
    "4. Format a string to display a card like string:\n",
    "    \n",
    "            Presidential Initiative for AI & Computing\n",
    "                          ID CARD\n",
    "            Student Name   : Asad Ali\n",
    "            Father Name    : Amjad Ali\n",
    "            Date of Birth  : 01-01-2000\n",
    "            Course Enrolled: Artificial Intelligence\n",
    "            Batch          : 2022\n",
    "            Day            : Saturday \n",
    "            Centre         : Sir Syed University of Engg and Technology\n",
    "                \n",
    "Note: all the field values must be taken as user inputs and stored in variable"
   ]
  },
  {
   "cell_type": "markdown",
   "id": "07313ae4",
   "metadata": {},
   "source": [
    "# Task 1"
   ]
  },
  {
   "cell_type": "code",
   "execution_count": 4,
   "id": "0f2d4d2d",
   "metadata": {},
   "outputs": [
    {
     "name": "stdout",
     "output_type": "stream",
     "text": [
      "['My', 'name', 'is', 'Sana.', 'I', 'am', 'an', 'undergraduate', 'student.', 'I', 'am', 'learning', 'Artificial', 'Intellegence', 'in', 'PIAIC']\n",
      "['My', 'name', 'is', 'Sana.', 'I', 'am', 'an', 'undergraduate', 'student.', 'I', 'am', 'learning', 'Artificial', 'Intellegence', 'in', 'PIAIC']\n"
     ]
    }
   ],
   "source": [
    "s=input(\"Please enter a sentence. :\")\n",
    "\n",
    "words= s.split(' ')\n",
    "print(words)\n",
    "\n",
    "list_words=words.copy()\n",
    "print(list_words)\n",
    "\n",
    "\n"
   ]
  },
  {
   "cell_type": "code",
   "execution_count": 22,
   "id": "1fc6ad01",
   "metadata": {},
   "outputs": [
    {
     "name": "stdout",
     "output_type": "stream",
     "text": [
      " 'My' appeared 1 times in the sentence. \n",
      " 'name' appeared 1 times in the sentence. \n",
      " 'is' appeared 1 times in the sentence. \n",
      " 'Sana.' appeared 1 times in the sentence. \n",
      " 'I' appeared 4 times in the sentence. \n",
      " 'am' appeared 3 times in the sentence. \n",
      " 'an' appeared 2 times in the sentence. \n",
      " 'undergraduate' appeared 1 times in the sentence. \n",
      " 'student.' appeared 1 times in the sentence. \n",
      " 'I' appeared 4 times in the sentence. \n",
      " 'am' appeared 3 times in the sentence. \n",
      " 'learning' appeared 1 times in the sentence. \n",
      " 'Artificial' appeared 1 times in the sentence. \n",
      " 'Intellegence' appeared 1 times in the sentence. \n",
      " 'in' appeared 2 times in the sentence. \n",
      " 'PIAIC' appeared 1 times in the sentence. \n"
     ]
    }
   ],
   "source": [
    "\n",
    "for i in range(len(words)):\n",
    "    count=0\n",
    "    for j in range(len(list_words)):\n",
    "        if(words[i] in list_words[j]):\n",
    "            count=count+1\n",
    "    print(f\" '{words[i]}' appeared {count} times in the sentence. \")\n",
    "        "
   ]
  },
  {
   "cell_type": "code",
   "execution_count": 24,
   "id": "ee054358",
   "metadata": {},
   "outputs": [
    {
     "name": "stdout",
     "output_type": "stream",
     "text": [
      " 'My' appeared 1 times in the sentence. \n",
      " 'name' appeared 1 times in the sentence. \n",
      " 'is' appeared 1 times in the sentence. \n",
      " 'Sana.' appeared 1 times in the sentence. \n",
      " 'I' appeared 2 times in the sentence. \n",
      " 'am' appeared 2 times in the sentence. \n",
      " 'an' appeared 1 times in the sentence. \n",
      " 'undergraduate' appeared 1 times in the sentence. \n",
      " 'student.' appeared 1 times in the sentence. \n",
      " 'I' appeared 2 times in the sentence. \n",
      " 'am' appeared 2 times in the sentence. \n",
      " 'learning' appeared 1 times in the sentence. \n",
      " 'Artificial' appeared 1 times in the sentence. \n",
      " 'Intellegence' appeared 1 times in the sentence. \n",
      " 'in' appeared 1 times in the sentence. \n",
      " 'PIAIC' appeared 1 times in the sentence. \n"
     ]
    }
   ],
   "source": [
    "for word in words:\n",
    "    count=0\n",
    "    for wordd in list_words:\n",
    "        if(word == wordd ):\n",
    "            count=count+1\n",
    "    print(f\" '{word}' appeared {count} times in the sentence. \")"
   ]
  },
  {
   "cell_type": "code",
   "execution_count": 23,
   "id": "1c1bcd3f",
   "metadata": {},
   "outputs": [
    {
     "name": "stdout",
     "output_type": "stream",
     "text": [
      "{'My': 1, 'name': 1, 'is': 1, 'Sana.': 1, 'I': 2, 'am': 2, 'an': 1, 'undergraduate': 1, 'student.': 1, 'learning': 1, 'Artificial': 1, 'Intellegence': 1, 'in': 1, 'PIAIC': 1}\n"
     ]
    }
   ],
   "source": [
    "d=dict()\n",
    "\n",
    "for word in words:\n",
    "    if(word in d):\n",
    "        d[word] +=1\n",
    "    else:\n",
    "        d[word]=1\n",
    "        \n",
    "print(d)\n",
    "\n"
   ]
  },
  {
   "cell_type": "markdown",
   "id": "2bafa5b1",
   "metadata": {},
   "source": [
    "# Task 2"
   ]
  },
  {
   "cell_type": "code",
   "execution_count": 30,
   "id": "128e49c3",
   "metadata": {},
   "outputs": [
    {
     "name": "stdout",
     "output_type": "stream",
     "text": [
      "Please enter a number: enter 0 to exit.4\n",
      "Squar of the number 4 is 16\n",
      "Please enter a number: enter 0 to exit.6\n",
      "Squar of the number 6 is 36\n",
      "Please enter a number: enter 0 to exit.9\n",
      "Squar of the number 9 is 81\n",
      "Please enter a number: enter 0 to exit.0\n",
      "Thank you for using this service. exiting...\n"
     ]
    }
   ],
   "source": [
    "\n",
    "while(True):\n",
    "    number=int(input(\"Please enter a number: enter 0 to exit.\"))\n",
    "    if(number == 0):\n",
    "        print(\"Thank you for using this service. exiting...\")\n",
    "        break\n",
    "    else:\n",
    "        sqr=number**2\n",
    "        print(f\"Squar of the number {number} is {sqr}\")\n"
   ]
  },
  {
   "cell_type": "markdown",
   "id": "94bd3ae5",
   "metadata": {},
   "source": [
    "# Task 3"
   ]
  },
  {
   "cell_type": "code",
   "execution_count": 34,
   "id": "e57ade62",
   "metadata": {},
   "outputs": [
    {
     "name": "stdout",
     "output_type": "stream",
     "text": [
      "Please enter number 1:3\n",
      "Please enter number 2:t\n",
      "please enter valid number.\n"
     ]
    }
   ],
   "source": [
    "\n",
    "\n",
    "try:\n",
    "    number1=int(input(\"Please enter number 1:\"))\n",
    "    number2=int(input(\"Please enter number 2:\"))\n",
    "    sum=number1+number2\n",
    "    print(f\"Sum of {number1} and {number2} is {sum}\")\n",
    "\n",
    "except:\n",
    "    print(\"please enter valid number.\")\n",
    "    \n"
   ]
  },
  {
   "cell_type": "markdown",
   "id": "fe1c7c51",
   "metadata": {},
   "source": [
    "# Task 4"
   ]
  },
  {
   "cell_type": "code",
   "execution_count": 37,
   "id": "a64f9c77",
   "metadata": {},
   "outputs": [
    {
     "name": "stdout",
     "output_type": "stream",
     "text": [
      "\n",
      "\n",
      "        Presidential Initiative for AI & Computing\n",
      "                          ID CARD\n",
      "            Student Name   : Wajid Ali\n",
      "            Father Name    : Habib Ur Rehman\n",
      "            Date of Birth  : 03-03-2000\n",
      "            Course Enrolled: Artificial Intelligence\n",
      "            Batch          : 2022\n",
      "            Day            : Friday \n",
      "            Centre         : COMSATS University Islamabad\n",
      "\n",
      "\n"
     ]
    }
   ],
   "source": [
    "print(\"\"\"\n",
    "\n",
    "        Presidential Initiative for AI & Computing\n",
    "                          ID CARD\n",
    "            Student Name   : Wajid Ali\n",
    "            Father Name    : Habib Ur Rehman\n",
    "            Date of Birth  : 03-03-2000\n",
    "            Course Enrolled: Artificial Intelligence\n",
    "            Batch          : 2022\n",
    "            Day            : Friday \n",
    "            Centre         : COMSATS University Islamabad\n",
    "\n",
    "\"\"\")"
   ]
  }
 ],
 "metadata": {
  "kernelspec": {
   "display_name": "Python 3 (ipykernel)",
   "language": "python",
   "name": "python3"
  },
  "language_info": {
   "codemirror_mode": {
    "name": "ipython",
    "version": 3
   },
   "file_extension": ".py",
   "mimetype": "text/x-python",
   "name": "python",
   "nbconvert_exporter": "python",
   "pygments_lexer": "ipython3",
   "version": "3.9.12"
  }
 },
 "nbformat": 4,
 "nbformat_minor": 5
}
